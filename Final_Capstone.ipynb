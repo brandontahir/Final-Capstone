{
 "cells": [
  {
   "cell_type": "markdown",
   "metadata": {
    "colab_type": "text",
    "id": "s_VdOBDKxLBH"
   },
   "source": [
    "# Final Capstone Project\n",
    "\n",
    "This final capstone project will be looking at sports betting. \n",
    "\n",
    "Using machine learning I want to analyze sports betting odds and create a model to predict the results of games and whether or not a gambler should bet money on the game. This model would be valuable to gamblers who want to make informed bets on sports games."
   ]
  },
  {
   "cell_type": "code",
   "execution_count": 1,
   "metadata": {
    "colab": {
     "base_uri": "https://localhost:8080/",
     "height": 663
    },
    "colab_type": "code",
    "id": "cpubHuCz1HS_",
    "outputId": "c3fa965f-d7d6-42c8-9d19-fcaf99900c5e"
   },
   "outputs": [],
   "source": [
    "#pip install hvplot bokeh -U"
   ]
  },
  {
   "cell_type": "code",
   "execution_count": 2,
   "metadata": {
    "colab": {},
    "colab_type": "code",
    "id": "sSEHGCUXxsa8"
   },
   "outputs": [],
   "source": [
    "import pandas as pd\n",
    "import numpy as np\n",
    "import matplotlib.pyplot as plt\n",
    "import seaborn as sns; sns.set()\n",
    "import sklearn\n",
    "import scipy\n",
    "sns.set_style('white')"
   ]
  },
  {
   "cell_type": "code",
   "execution_count": 3,
   "metadata": {
    "colab": {
     "base_uri": "https://localhost:8080/",
     "height": 122
    },
    "colab_type": "code",
    "id": "3iiNcSWxHHsp",
    "outputId": "d91fa833-88ec-4de7-aa40-b7621b32e78e"
   },
   "outputs": [
    {
     "ename": "ModuleNotFoundError",
     "evalue": "No module named 'google'",
     "output_type": "error",
     "traceback": [
      "\u001b[1;31m---------------------------------------------------------------------------\u001b[0m",
      "\u001b[1;31mModuleNotFoundError\u001b[0m                       Traceback (most recent call last)",
      "\u001b[1;32m<ipython-input-3-4996ee3d8d09>\u001b[0m in \u001b[0;36m<module>\u001b[1;34m\u001b[0m\n\u001b[1;32m----> 1\u001b[1;33m \u001b[1;32mfrom\u001b[0m \u001b[0mgoogle\u001b[0m\u001b[1;33m.\u001b[0m\u001b[0mcolab\u001b[0m \u001b[1;32mimport\u001b[0m \u001b[0mdrive\u001b[0m\u001b[1;33m\u001b[0m\u001b[1;33m\u001b[0m\u001b[0m\n\u001b[0m\u001b[0;32m      2\u001b[0m \u001b[0mdrive\u001b[0m\u001b[1;33m.\u001b[0m\u001b[0mmount\u001b[0m\u001b[1;33m(\u001b[0m\u001b[1;34m'/content/gdrive'\u001b[0m\u001b[1;33m)\u001b[0m\u001b[1;33m\u001b[0m\u001b[1;33m\u001b[0m\u001b[0m\n",
      "\u001b[1;31mModuleNotFoundError\u001b[0m: No module named 'google'"
     ]
    }
   ],
   "source": [
    "from google.colab import drive\n",
    "drive.mount('/content/gdrive')"
   ]
  },
  {
   "cell_type": "markdown",
   "metadata": {
    "colab_type": "text",
    "id": "-dsyAC7C8r8L"
   },
   "source": [
    "# Data Wrangling"
   ]
  },
  {
   "cell_type": "code",
   "execution_count": null,
   "metadata": {
    "colab": {
     "base_uri": "https://localhost:8080/",
     "height": 343
    },
    "colab_type": "code",
    "id": "ETR2KxBPHLGL",
    "outputId": "62b77cab-332a-4cab-f7a1-da7c299a108d"
   },
   "outputs": [],
   "source": [
    "# Import odds\n",
    "odds_raw = pd.read_csv(\"/content/gdrive/My Drive/Colab Datasets/BSKB_NBA 3in1_ML_Opening odds_02 June 2019.csv\")\n",
    "\n",
    "odds_raw.head()"
   ]
  },
  {
   "cell_type": "code",
   "execution_count": null,
   "metadata": {
    "colab": {
     "base_uri": "https://localhost:8080/",
     "height": 204
    },
    "colab_type": "code",
    "id": "Gdq_856BSFkI",
    "outputId": "3f6062ea-b66f-4907-bdc5-fe782d7e4d55"
   },
   "outputs": [],
   "source": [
    "# Import teams\n",
    "teams_raw = pd.read_csv(\"/content/gdrive/My Drive/Colab Datasets/nba_team_ratings.csv\")\n",
    "\n",
    "teams_raw.head()"
   ]
  },
  {
   "cell_type": "markdown",
   "metadata": {
    "colab_type": "text",
    "id": "1csfkBcm87xb"
   },
   "source": [
    "## About the Data\n",
    "\n",
    "The first dataset contains the money line odds and final score of NBA games from the 2009-2010 NBA Regular Season through the 2018-2019 NBA Playoffs, up to Game 1 of the NBA Finals. The dataset is from indatabet.com. It is a .csv file I converted over from a .xlsb file. The original file used sub columns under main columns. For example, 'Teams' have both 'Home' and 'Away' teams in separate columns. The same goes for 'Teams ID' having both 'H' (home) and 'A' (away) teams' abbreviations. It also has odds from three different online bookmakers: Matchbook, Pinnacle, and Bet365. I will need to clean the data so that all the columns are on the same level, and remove the columns that are not necessary.\n",
    "\n",
    "The second dataset contains stats and advanced metrics for each NBA team in a given season. It contains a team's record, offensive rating, defensive rating, net ratings, as well as adjusted ratings."
   ]
  },
  {
   "cell_type": "code",
   "execution_count": null,
   "metadata": {
    "colab": {
     "base_uri": "https://localhost:8080/",
     "height": 153
    },
    "colab_type": "code",
    "id": "pdGACDbv5eBZ",
    "outputId": "aeb23217-23d2-4af6-97ab-3a6ad54d5f73"
   },
   "outputs": [],
   "source": [
    "# Get list of columns\n",
    "odds_raw.columns"
   ]
  },
  {
   "cell_type": "code",
   "execution_count": null,
   "metadata": {
    "colab": {},
    "colab_type": "code",
    "id": "gWBw6MVHLUhK"
   },
   "outputs": [],
   "source": [
    "# Creating new Data Frame\n",
    "odds_df = pd.DataFrame\n",
    "odds_df = odds_raw"
   ]
  },
  {
   "cell_type": "code",
   "execution_count": null,
   "metadata": {
    "colab": {},
    "colab_type": "code",
    "id": "qYvRV0Vx5esd"
   },
   "outputs": [],
   "source": [
    "# Drop uneccessary columns\n",
    "odds_df = odds_raw.drop(['Kick-off', 'Date of the game', 'Unnamed: 5', 'Country', 'League', 'Unnamed: 17', 'Unnamed: 18', 'Unnamed: 19', 'Draw', 'Unnamed: 21', 'Unnamed: 22', '1 q ', 'Unnamed: 24', 'Unnamed: 25'],  axis=1)"
   ]
  },
  {
   "cell_type": "code",
   "execution_count": null,
   "metadata": {
    "colab": {},
    "colab_type": "code",
    "id": "ejRHfsPC6NM-"
   },
   "outputs": [],
   "source": [
    "# Rename columns\n",
    "odds_df.rename(columns={'Teams ': 'Home Team',\n",
    "                   'Unnamed: 11': 'Away Team',\n",
    "                   'Teams ID': 'Home ID',\n",
    "                   'Unnamed: 13': 'Away ID',\n",
    "                   'FT +OT Scores': 'Home Score',\n",
    "                   'Unnamed: 15': 'Away Score',\n",
    "                   'Unnamed: 16': 'Winner',\n",
    "                   'OT Money Line': 'matchbook H',\n",
    "                   'Unnamed: 27': 'matchbook A',\n",
    "                   'OT Money Line.1': 'pinnacle H',\n",
    "                   'Unnamed: 29': 'pinnacle A',\n",
    "                   'OT Money Line.2': 'bet365 H',\n",
    "                   'Unnamed: 31': 'bet365 A'}, inplace=True)"
   ]
  },
  {
   "cell_type": "code",
   "execution_count": null,
   "metadata": {
    "colab": {},
    "colab_type": "code",
    "id": "WqMxSa9Y7bXM"
   },
   "outputs": [],
   "source": [
    "# Remove first two rows which were previously the names of the sub columns\n",
    "odds_df = odds_df.iloc[2:]"
   ]
  },
  {
   "cell_type": "code",
   "execution_count": null,
   "metadata": {
    "colab": {
     "base_uri": "https://localhost:8080/",
     "height": 408
    },
    "colab_type": "code",
    "id": "VUbpMjwqBV8y",
    "outputId": "047f9ff5-91eb-42e4-9ef9-ca97c26579b1"
   },
   "outputs": [],
   "source": [
    "# Check data types and for null values\n",
    "odds_df.info()"
   ]
  },
  {
   "cell_type": "code",
   "execution_count": null,
   "metadata": {
    "colab": {
     "base_uri": "https://localhost:8080/",
     "height": 340
    },
    "colab_type": "code",
    "id": "uYQX-kbPfHtC",
    "outputId": "0ec9928a-4980-417d-a97e-655e47d531e7"
   },
   "outputs": [],
   "source": [
    "# Sum of null values\n",
    "odds_df.isna().sum()"
   ]
  },
  {
   "cell_type": "markdown",
   "metadata": {
    "colab_type": "text",
    "id": "uwCPkeRufKJv"
   },
   "source": [
    "We do not have the odds of 5,795 games from Matchbook, 156 games from Pinnacle, and 160 games from Bet365. "
   ]
  },
  {
   "cell_type": "code",
   "execution_count": null,
   "metadata": {
    "colab": {
     "base_uri": "https://localhost:8080/",
     "height": 68
    },
    "colab_type": "code",
    "id": "nuZlYE2KA_v3",
    "outputId": "b4183b69-aa42-4006-a5fd-ee7a9e9884c1"
   },
   "outputs": [],
   "source": [
    "# Convert objects to float\n",
    "odds_df = odds_df.convert_objects(convert_numeric=True)"
   ]
  },
  {
   "cell_type": "code",
   "execution_count": null,
   "metadata": {
    "colab": {
     "base_uri": "https://localhost:8080/",
     "height": 408
    },
    "colab_type": "code",
    "id": "eP9BZwSpH4pC",
    "outputId": "8e9af498-c30a-48e8-9578-e3e7c31c2c50"
   },
   "outputs": [],
   "source": [
    "# Check data types again\n",
    "odds_df.info()"
   ]
  },
  {
   "cell_type": "code",
   "execution_count": null,
   "metadata": {
    "colab": {},
    "colab_type": "code",
    "id": "yXIZOIQDudVW"
   },
   "outputs": [],
   "source": [
    "# Fill NaN with average\n",
    "odds_df = odds_df.fillna(odds_df.mean())"
   ]
  },
  {
   "cell_type": "code",
   "execution_count": null,
   "metadata": {
    "colab": {
     "base_uri": "https://localhost:8080/",
     "height": 111
    },
    "colab_type": "code",
    "id": "2sh73KyNvESY",
    "outputId": "a1d9d9af-1407-4fad-e0ea-b885634cdfbf"
   },
   "outputs": [],
   "source": [
    "# Check where null values are\n",
    "odds_df[odds_df.isna().any(axis=1)]"
   ]
  },
  {
   "cell_type": "code",
   "execution_count": null,
   "metadata": {
    "colab": {},
    "colab_type": "code",
    "id": "zdgeq-oTvrcz"
   },
   "outputs": [],
   "source": [
    "# Add columns for the average odds of the three different sportsbooks (Matchbook, Pinnacle, and Bet365)\n",
    "odds_df['AVG H'] = ((odds_df['matchbook H'] + odds_df['pinnacle H'] + odds_df['bet365 H']) / 3)\n",
    "odds_df['AVG A'] = ((odds_df['matchbook A'] + odds_df['pinnacle A'] + odds_df['bet365 A']) / 3)"
   ]
  },
  {
   "cell_type": "code",
   "execution_count": null,
   "metadata": {
    "colab": {},
    "colab_type": "code",
    "id": "hxhVx3Z2E0_P"
   },
   "outputs": [],
   "source": [
    "# Create variables that makes the Winner and Loser binary\n",
    "odds_df['Winner_B'] = np.where(odds_df['Winner']=='H', 1, 0)\n",
    "odds_df['Loser_B'] = np.where(odds_df['Winner']=='A', 1, 0)"
   ]
  },
  {
   "cell_type": "code",
   "execution_count": null,
   "metadata": {
    "colab": {
     "base_uri": "https://localhost:8080/",
     "height": 306
    },
    "colab_type": "code",
    "id": "TAV8inAgwJ0J",
    "outputId": "0fa234b6-e99c-4602-a2c4-ab4c298fe1c5"
   },
   "outputs": [],
   "source": [
    "odds_df.head()"
   ]
  },
  {
   "cell_type": "code",
   "execution_count": null,
   "metadata": {
    "colab": {
     "base_uri": "https://localhost:8080/",
     "height": 204
    },
    "colab_type": "code",
    "id": "BT-UZyhI5xH_",
    "outputId": "4f7da325-a51b-4e69-902e-8c6a6339a0cf"
   },
   "outputs": [],
   "source": [
    "teams_raw.head()"
   ]
  },
  {
   "cell_type": "code",
   "execution_count": null,
   "metadata": {
    "colab": {},
    "colab_type": "code",
    "id": "epaaenYJ4HUd"
   },
   "outputs": [],
   "source": [
    "# Merge the dataframes to include home team metrics\n",
    "merged = pd.merge(odds_df, \n",
    "                        teams_raw[['Team', 'MOV', 'ORtg', 'DRtg', 'NRtg', 'MOV/A', 'ORtg/A', 'DRtg/A', 'NRtg/A', 'Seasons']].rename(columns={\n",
    "                            'DRtg': 'DRtg_Home',\n",
    "                            'DRtg/A': 'DRtg/A_Home',\n",
    "                            'MOV': 'MOV_Home',\n",
    "                            'MOV/A': 'MOV/A_Home',\n",
    "                            'NRtg': 'NRtg_Home',\n",
    "                            'NRtg/A': 'NRtg/A_Home',\n",
    "                            'ORtg': 'ORtg_Home',\n",
    "                            'ORtg/A': 'ORtg/A_Home'}),\n",
    "                        how='left',\n",
    "                        left_on=('Home Team', 'Seasons'),\n",
    "                        right_on=('Team', 'Seasons'),\n",
    "                        suffixes=('', '_this_shouldnt_happen'))"
   ]
  },
  {
   "cell_type": "code",
   "execution_count": null,
   "metadata": {
    "colab": {},
    "colab_type": "code",
    "id": "9dukSWDi6LUH"
   },
   "outputs": [],
   "source": [
    "# Merge again to include away team metrics\n",
    "merged = merged.merge(teams_raw[['Team', 'MOV', 'ORtg', 'DRtg', 'NRtg', 'MOV/A', 'ORtg/A', 'DRtg/A', 'NRtg/A', 'Seasons']].rename(columns={\n",
    "                            'DRtg': 'DRtg_Away',\n",
    "                            'DRtg/A': 'DRtg/A_Away',\n",
    "                            'MOV': 'MOV_Away',\n",
    "                            'MOV/A': 'MOV/A_Away',\n",
    "                            'NRtg': 'NRtg_Away',\n",
    "                            'NRtg/A': 'NRtg/A_Away',\n",
    "                            'ORtg': 'ORtg_Away',\n",
    "                            'ORtg/A': 'ORtg/A_Away',}), \n",
    "                   how='left',\n",
    "                   left_on=('Away Team', 'Seasons'),\n",
    "                   right_on=('Team', 'Seasons'),\n",
    "                   suffixes=('', '_away_team'))"
   ]
  },
  {
   "cell_type": "code",
   "execution_count": null,
   "metadata": {
    "colab": {
     "base_uri": "https://localhost:8080/",
     "height": 170
    },
    "colab_type": "code",
    "id": "R3hPota9WTgw",
    "outputId": "0baa7643-ce28-43a9-c41d-65b8932ccd21"
   },
   "outputs": [],
   "source": [
    "merged.columns"
   ]
  },
  {
   "cell_type": "code",
   "execution_count": null,
   "metadata": {
    "colab": {},
    "colab_type": "code",
    "id": "hWGzeXhxWnrt"
   },
   "outputs": [],
   "source": [
    "# Remove redundant columns for home and away teams\n",
    "merged = merged.drop(['Team', 'Team_away_team'],  axis='columns')"
   ]
  },
  {
   "cell_type": "code",
   "execution_count": null,
   "metadata": {
    "colab": {
     "base_uri": "https://localhost:8080/",
     "height": 748
    },
    "colab_type": "code",
    "id": "EW4ntOatsETT",
    "outputId": "c201a162-12c5-40e0-af59-a5ca1b1b06ec"
   },
   "outputs": [],
   "source": [
    "merged.info()"
   ]
  },
  {
   "cell_type": "code",
   "execution_count": null,
   "metadata": {
    "colab": {
     "base_uri": "https://localhost:8080/",
     "height": 680
    },
    "colab_type": "code",
    "id": "IsXTMCag0mDT",
    "outputId": "6ca8f3aa-62f9-4bcf-8c53-917ce84635dc"
   },
   "outputs": [],
   "source": [
    "# Sum of null values\n",
    "merged.isna().sum()"
   ]
  },
  {
   "cell_type": "code",
   "execution_count": null,
   "metadata": {
    "colab": {},
    "colab_type": "code",
    "id": "w-cYOImx1hlB"
   },
   "outputs": [],
   "source": [
    "# Drop NA\n",
    "merged = merged.dropna()"
   ]
  },
  {
   "cell_type": "markdown",
   "metadata": {
    "colab_type": "text",
    "id": "T-EoSfcCny3y"
   },
   "source": [
    "#Data Exploration"
   ]
  },
  {
   "cell_type": "code",
   "execution_count": null,
   "metadata": {
    "colab": {
     "base_uri": "https://localhost:8080/",
     "height": 34
    },
    "colab_type": "code",
    "id": "PrHrD7BPXskY",
    "outputId": "a82aaeaa-bb55-48a8-e22d-bf84c42fdd9b"
   },
   "outputs": [],
   "source": [
    "# How many total\n",
    "merged.shape"
   ]
  },
  {
   "cell_type": "markdown",
   "metadata": {
    "colab_type": "text",
    "id": "lyBTbpeAiAd_"
   },
   "source": [
    "We have data from 12,697 games over the span of 10 NBA seasons (from 2009 to 2019)."
   ]
  },
  {
   "cell_type": "code",
   "execution_count": null,
   "metadata": {
    "colab": {
     "base_uri": "https://localhost:8080/",
     "height": 317
    },
    "colab_type": "code",
    "id": "qLtE45c9iUu4",
    "outputId": "d64b2ff4-ca06-452e-c040-487a08d53f1b"
   },
   "outputs": [],
   "source": [
    "# Summary statistics\n",
    "merged.describe()"
   ]
  },
  {
   "cell_type": "code",
   "execution_count": null,
   "metadata": {
    "colab": {
     "base_uri": "https://localhost:8080/",
     "height": 604
    },
    "colab_type": "code",
    "id": "rV9GejQsktDq",
    "outputId": "9dbeb760-9150-4a0d-c121-027c5871f4a3"
   },
   "outputs": [],
   "source": [
    "# How many games from each season\n",
    "b = merged.Seasons.value_counts().reindex(['2009/2010', '2010/2011', '2011/2012', '2012/2013', '2013/2014',\n",
    "                                  '2014/2015', '2015/2016', '2016/2017', '2017/2018', '2018/2019']).plot(kind=\"bar\",\n",
    "                                                                                                        figsize=(14,8))\n",
    "b.axes.set_title(\"Games per Season\",fontsize=30)\n",
    "b.set_xlabel(\"Season\", fontsize=20)\n",
    "b.set_ylabel(\"Number of Games\", fontsize=20)"
   ]
  },
  {
   "cell_type": "markdown",
   "metadata": {
    "colab_type": "text",
    "id": "xzqz0eRTsau3"
   },
   "source": [
    "There are 30 teams in the NBA. Each team plays 82 regular season games which comes out to 1230 games total. The amount of playoff games is different every year as some series may require more games to decide the outcome. The 2011/2012 NBA Season was shortend to 66 games due to a lockout. "
   ]
  },
  {
   "cell_type": "code",
   "execution_count": null,
   "metadata": {
    "colab": {
     "base_uri": "https://localhost:8080/",
     "height": 967
    },
    "colab_type": "code",
    "id": "xNeo59hT2jCN",
    "outputId": "4d8efa75-7a83-4d47-eb08-dcfb3ff95308"
   },
   "outputs": [],
   "source": [
    "import hvplot.pandas\n",
    "import holoviews\n",
    "\n",
    "holoviews.extension('bokeh')\n",
    "\n",
    "merged.hvplot(x='YY', by='Home Team', y='NRtg_Home', height=950, width=800)"
   ]
  },
  {
   "cell_type": "code",
   "execution_count": null,
   "metadata": {
    "colab": {
     "base_uri": "https://localhost:8080/",
     "height": 817
    },
    "colab_type": "code",
    "id": "8EgAobpo77g-",
    "outputId": "2d2b9bb4-b105-4b3b-cb26-c83ef318929b"
   },
   "outputs": [],
   "source": [
    "holoviews.extension('bokeh')\n",
    "\n",
    "merged.hvplot(x='YY', by='Home Team', y='NRtg_Home', height=800, kind='scatter')"
   ]
  },
  {
   "cell_type": "code",
   "execution_count": null,
   "metadata": {
    "colab": {
     "base_uri": "https://localhost:8080/",
     "height": 956
    },
    "colab_type": "code",
    "id": "gsnsa8YjqHF_",
    "outputId": "745ad576-8f94-4e61-8aef-472d8dd4ff41"
   },
   "outputs": [],
   "source": [
    "plt.figure(figsize=(30, 15))\n",
    "sns.heatmap(merged.corr(), cmap='coolwarm', annot=True)"
   ]
  },
  {
   "cell_type": "markdown",
   "metadata": {
    "colab_type": "text",
    "id": "PsdX1SqYwG74"
   },
   "source": [
    "# Models"
   ]
  },
  {
   "cell_type": "code",
   "execution_count": null,
   "metadata": {
    "colab": {},
    "colab_type": "code",
    "id": "GrNOszCglssU"
   },
   "outputs": [],
   "source": [
    "# Split data\n",
    "\n",
    "from sklearn.model_selection import train_test_split\n",
    "from sklearn.model_selection import cross_val_score\n",
    "\n",
    "X = pd.get_dummies(\n",
    "    merged.drop(\n",
    "        [\n",
    "            \"MM\",\n",
    "            \"DD\",\n",
    "            \"Winner_B\",\n",
    "            \"Loser_B\",\n",
    "            \"Winner\",\n",
    "            \"matchbook H\",\n",
    "            \"matchbook A\",\n",
    "            \"pinnacle H\",\n",
    "            \"pinnacle A\",\n",
    "            \"bet365 H\",\n",
    "            \"bet365 A\",\n",
    "            \"Home Score\",\n",
    "            \"Away Score\"\n",
    "        ],\n",
    "        axis='columns',\n",
    "    )\n",
    "    , drop_first=True\n",
    ")\n",
    "Y = merged[\"Winner_B\"]\n",
    "\n",
    "X_train, X_test, Y_train, Y_test = train_test_split(X, Y, test_size=0.3, random_state=0)\n"
   ]
  },
  {
   "cell_type": "markdown",
   "metadata": {
    "colab_type": "text",
    "id": "WZ6awDaQ8Ub-"
   },
   "source": [
    "### Logistic Regression"
   ]
  },
  {
   "cell_type": "code",
   "execution_count": null,
   "metadata": {
    "colab": {
     "base_uri": "https://localhost:8080/",
     "height": 136
    },
    "colab_type": "code",
    "id": "SQYbA6j7pimL",
    "outputId": "6011ed06-17bf-45b0-f572-c1ea21ef54e3"
   },
   "outputs": [],
   "source": [
    "from sklearn.linear_model import LogisticRegression\n",
    "\n",
    "logr = LogisticRegression(solver='lbfgs', multi_class='auto')\n",
    "logr.fit(X_train, Y_train)"
   ]
  },
  {
   "cell_type": "code",
   "execution_count": null,
   "metadata": {
    "colab": {
     "base_uri": "https://localhost:8080/",
     "height": 68
    },
    "colab_type": "code",
    "id": "jBLGXoVTt3LA",
    "outputId": "23c9a2ba-b20f-4ddb-c90e-04bc815ba308"
   },
   "outputs": [],
   "source": [
    "print('Logistic Regression Scores')\n",
    "print('Training score: ', logr.score(X_train, Y_train))\n",
    "print('Test score: ', logr.score(X_test, Y_test))"
   ]
  },
  {
   "cell_type": "markdown",
   "metadata": {
    "colab_type": "text",
    "id": "sElyY2P-oOQS"
   },
   "source": [
    "### Decision Tree"
   ]
  },
  {
   "cell_type": "code",
   "execution_count": null,
   "metadata": {
    "colab": {
     "base_uri": "https://localhost:8080/",
     "height": 119
    },
    "colab_type": "code",
    "id": "OYdBXHKuKGPs",
    "outputId": "7dd12df2-02f6-4fba-8a07-d3a6a613ebcf"
   },
   "outputs": [],
   "source": [
    "from sklearn.tree import DecisionTreeClassifier\n",
    "\n",
    "tree = DecisionTreeClassifier()\n",
    "tree.fit(X_train, Y_train)"
   ]
  },
  {
   "cell_type": "code",
   "execution_count": null,
   "metadata": {
    "colab": {
     "base_uri": "https://localhost:8080/",
     "height": 68
    },
    "colab_type": "code",
    "id": "lPd7340YKahd",
    "outputId": "42b86617-34ae-4609-bbb5-d888462968ea"
   },
   "outputs": [],
   "source": [
    "print('Decision Tree Scores')\n",
    "print('Training score: ', tree.score(X_train, Y_train))\n",
    "print('Test score: ', tree.score(X_test, Y_test))"
   ]
  },
  {
   "cell_type": "code",
   "execution_count": null,
   "metadata": {
    "colab": {
     "base_uri": "https://localhost:8080/",
     "height": 1000
    },
    "colab_type": "code",
    "id": "D0Q0q1NnKadi",
    "outputId": "258d7024-30a9-4891-9696-d2ba3dda0089"
   },
   "outputs": [],
   "source": [
    "# See which features are most important\n",
    "tree_features = pd.Series(data=tree.feature_importances_, index=X_train.columns)\n",
    "tree_features.sort_values(ascending=False)"
   ]
  },
  {
   "cell_type": "markdown",
   "metadata": {
    "colab_type": "text",
    "id": "xrJ1DX0q8gQH"
   },
   "source": [
    "### Random Forest"
   ]
  },
  {
   "cell_type": "code",
   "execution_count": null,
   "metadata": {
    "colab": {
     "base_uri": "https://localhost:8080/",
     "height": 136
    },
    "colab_type": "code",
    "id": "bogVS9nE2MpN",
    "outputId": "0d63ef9d-ef4f-44ad-c92e-7a74754867e1"
   },
   "outputs": [],
   "source": [
    "from sklearn import ensemble\n",
    "\n",
    "rfc = ensemble.RandomForestClassifier(n_estimators=500)\n",
    "rfc.fit(X_train, Y_train)"
   ]
  },
  {
   "cell_type": "code",
   "execution_count": null,
   "metadata": {
    "colab": {
     "base_uri": "https://localhost:8080/",
     "height": 68
    },
    "colab_type": "code",
    "id": "N2hERS_3Mqhs",
    "outputId": "6a4513a2-59c1-4fa6-b8f3-a6e3cea54148"
   },
   "outputs": [],
   "source": [
    "print('Random Forest Scores')\n",
    "print('Training score: ', rfc.score(X_train, Y_train))\n",
    "print('Test score: ', rfc.score(X_test, Y_test))"
   ]
  },
  {
   "cell_type": "code",
   "execution_count": null,
   "metadata": {
    "colab": {
     "base_uri": "https://localhost:8080/",
     "height": 1000
    },
    "colab_type": "code",
    "id": "SMEDU2y8_QWq",
    "outputId": "5150d141-93d3-4582-ee90-b378f3edb54c"
   },
   "outputs": [],
   "source": [
    "# See which features are most important\n",
    "rfc_features = pd.Series(data=rfc.feature_importances_, index=X_train.columns)\n",
    "rfc_features.sort_values(ascending=False)"
   ]
  },
  {
   "cell_type": "markdown",
   "metadata": {
    "colab_type": "text",
    "id": "THmpxcRa8hrS"
   },
   "source": [
    "### KNN"
   ]
  },
  {
   "cell_type": "code",
   "execution_count": null,
   "metadata": {
    "colab": {
     "base_uri": "https://localhost:8080/",
     "height": 68
    },
    "colab_type": "code",
    "id": "gsC5nkoSDIqR",
    "outputId": "d74d508a-aa00-4e22-e0b6-f490eb09ac74"
   },
   "outputs": [],
   "source": [
    "from sklearn import neighbors\n",
    "\n",
    "knn = neighbors.KNeighborsClassifier(n_neighbors=2, weights='distance')\n",
    "knn.fit(X_train, Y_train)"
   ]
  },
  {
   "cell_type": "code",
   "execution_count": null,
   "metadata": {
    "colab": {
     "base_uri": "https://localhost:8080/",
     "height": 68
    },
    "colab_type": "code",
    "id": "l4vWQUpZvD1Q",
    "outputId": "88bb0643-a582-4128-9e87-f55ca490f16c"
   },
   "outputs": [],
   "source": [
    "print('KNN Scores. K = 2')\n",
    "print('Training score: ', knn.score(X_train, Y_train))\n",
    "print('Test score: ', knn.score(X_test, Y_test))"
   ]
  },
  {
   "cell_type": "code",
   "execution_count": null,
   "metadata": {
    "colab": {
     "base_uri": "https://localhost:8080/",
     "height": 68
    },
    "colab_type": "code",
    "id": "z4GnfBs8gS6Q",
    "outputId": "396cb9e8-716f-44bc-c987-eb716019ac5e"
   },
   "outputs": [],
   "source": [
    "knn = neighbors.KNeighborsClassifier(n_neighbors=20, weights='distance')\n",
    "knn.fit(X_train, Y_train)\n",
    "\n",
    "print('KNN Scores. K = 20')\n",
    "print('Training score: ', knn.score(X_train, Y_train))\n",
    "print('Test score: ', knn.score(X_test, Y_test))"
   ]
  },
  {
   "cell_type": "code",
   "execution_count": null,
   "metadata": {
    "colab": {
     "base_uri": "https://localhost:8080/",
     "height": 68
    },
    "colab_type": "code",
    "id": "JCvXa3ANgaz3",
    "outputId": "9c511c82-6158-4a36-b195-b9c12060a3c4"
   },
   "outputs": [],
   "source": [
    "knn = neighbors.KNeighborsClassifier(n_neighbors=10, weights='distance')\n",
    "knn.fit(X_train, Y_train)\n",
    "\n",
    "print('KNN Scores. K = 10')\n",
    "print('Training score: ', knn.score(X_train, Y_train))\n",
    "print('Test score: ', knn.score(X_test, Y_test))"
   ]
  },
  {
   "cell_type": "markdown",
   "metadata": {
    "colab_type": "text",
    "id": "9KI-tie6TzIg"
   },
   "source": [
    "###XGBoost"
   ]
  },
  {
   "cell_type": "code",
   "execution_count": null,
   "metadata": {
    "colab": {
     "base_uri": "https://localhost:8080/",
     "height": 136
    },
    "colab_type": "code",
    "id": "qoQxZfZnB7iK",
    "outputId": "a117524a-edc1-4ded-df16-714a228db932"
   },
   "outputs": [],
   "source": [
    "import xgboost as xgb\n",
    "from xgboost import XGBClassifier\n",
    "\n",
    "xgb = XGBClassifier()\n",
    "xgb.fit(X_train, Y_train)"
   ]
  },
  {
   "cell_type": "code",
   "execution_count": null,
   "metadata": {
    "colab": {
     "base_uri": "https://localhost:8080/",
     "height": 68
    },
    "colab_type": "code",
    "id": "JRDIsbsDMymS",
    "outputId": "bd9d7a87-c7f5-4839-ed45-205f0279c543"
   },
   "outputs": [],
   "source": [
    "print('XGBoost Scores')\n",
    "print('Training score: ', xgb.score(X_train, Y_train))\n",
    "print('Test score: ', xgb.score(X_test, Y_test))"
   ]
  },
  {
   "cell_type": "code",
   "execution_count": null,
   "metadata": {
    "colab": {
     "base_uri": "https://localhost:8080/",
     "height": 1000
    },
    "colab_type": "code",
    "id": "KE5c2nX0A99j",
    "outputId": "4267f4da-4fb6-4d07-9431-7fef1defb2a3"
   },
   "outputs": [],
   "source": [
    "# See which features are most important\n",
    "xgb_features = pd.Series(data=xgb.feature_importances_, index=X_train.columns)\n",
    "xgb_features.sort_values(ascending=False)"
   ]
  },
  {
   "cell_type": "markdown",
   "metadata": {
    "colab_type": "text",
    "id": "32-OzMa883I3"
   },
   "source": [
    "### Neural Network (Multi Layer Perceptron)"
   ]
  },
  {
   "cell_type": "code",
   "execution_count": null,
   "metadata": {
    "colab": {
     "base_uri": "https://localhost:8080/",
     "height": 34
    },
    "colab_type": "code",
    "id": "3CrWzTrc94y7",
    "outputId": "25d546fd-209b-4c61-cd80-a86f4e1620e4"
   },
   "outputs": [],
   "source": [
    "import tensorflow as tf\n",
    "import keras\n",
    "from keras import backend as K\n",
    "from keras.layers import Dense, Dropout, Flatten, Conv2D, MaxPooling2D\n",
    "from keras.optimizers import RMSprop"
   ]
  },
  {
   "cell_type": "code",
   "execution_count": null,
   "metadata": {
    "colab": {},
    "colab_type": "code",
    "id": "agrGJIk6Y8p0"
   },
   "outputs": [],
   "source": [
    "Y = merged[[\"Winner_B\", \"Loser_B\"]]\n",
    "\n",
    "X_train, X_test, Y_train, Y_test = train_test_split(X, Y, test_size=0.3, random_state=0)"
   ]
  },
  {
   "cell_type": "code",
   "execution_count": null,
   "metadata": {
    "colab": {
     "base_uri": "https://localhost:8080/",
     "height": 578
    },
    "colab_type": "code",
    "id": "3DyYW2CNXKrL",
    "outputId": "d67131df-7ef5-40e4-9eba-76341c04cff6"
   },
   "outputs": [],
   "source": [
    "from keras.models import Sequential\n",
    "\n",
    "# Start with a simple sequential model\n",
    "model = Sequential()\n",
    "\n",
    "# Add dense layers to create a fully connected MLP\n",
    "model.add(Dense(64, activation='relu', input_shape=(146,)))\n",
    "\n",
    "# Dropout layers remove features and fight overfitting\n",
    "model.add(Dropout(0.1))\n",
    "model.add(Dense(64, activation='relu'))\n",
    "model.add(Dropout(0.1))\n",
    "model.add(Dense(2, activation='softmax'))\n",
    "\n",
    "model.summary()\n",
    "\n",
    "# Compile the model\n",
    "model.compile(loss='categorical_crossentropy',\n",
    "              optimizer=RMSprop(),\n",
    "              metrics=['accuracy'])"
   ]
  },
  {
   "cell_type": "code",
   "execution_count": null,
   "metadata": {
    "colab": {
     "base_uri": "https://localhost:8080/",
     "height": 1000
    },
    "colab_type": "code",
    "id": "Qg7gal6OXlY6",
    "outputId": "572a8e03-e539-44a4-fe4c-9ea0d182ccab"
   },
   "outputs": [],
   "source": [
    "history = model.fit(X_train, Y_train,\n",
    "                    batch_size=128,\n",
    "                    epochs=50,\n",
    "                    verbose=1,\n",
    "                    validation_data=(X_test, Y_test))\n",
    "score = model.evaluate(X_test, Y_test, verbose=0)\n",
    "print('Test loss:', score[0])\n",
    "print('Test accuracy:', score[1])"
   ]
  },
  {
   "cell_type": "markdown",
   "metadata": {
    "colab_type": "text",
    "id": "rirBSPw10uv9"
   },
   "source": [
    "#Feature Importances"
   ]
  },
  {
   "cell_type": "code",
   "execution_count": null,
   "metadata": {
    "colab": {},
    "colab_type": "code",
    "id": "QzNKqfbMD9uF"
   },
   "outputs": [],
   "source": [
    "tree_importance = tree.feature_importances_\n",
    "rfc_importance = rfc.feature_importances_\n",
    "xgb_importance = xgb.feature_importances_\n",
    "\n",
    "tree_importance = 100.0 * (tree_importance / tree_importance.sum())\n",
    "rfc_importance = 100.0 * (rfc_importance / rfc_importance.sum())\n",
    "xgb_importance = 100.0 * (xgb_importance / xgb_importance.sum())\n",
    "\n",
    "\n",
    "tree_df = pd.DataFrame(data={'Percent_Importance':tree_importance, 'Feature':X_train.columns})\n",
    "tree_df.sort_values('Percent_Importance', axis=0, ascending=False, inplace=True)\n",
    "\n",
    "rfc_df = pd.DataFrame(data={'Percent_Importance':rfc_importance, 'Feature':X_train.columns})\n",
    "rfc_df.sort_values('Percent_Importance', axis=0, ascending=False, inplace=True)\n",
    "\n",
    "xgb_df = pd.DataFrame(data={'Percent_Importance':xgb_importance, 'Feature':X_train.columns})\n",
    "xgb_df.sort_values('Percent_Importance', axis=0, ascending=False, inplace=True)"
   ]
  },
  {
   "cell_type": "code",
   "execution_count": null,
   "metadata": {
    "colab": {
     "base_uri": "https://localhost:8080/",
     "height": 1000
    },
    "colab_type": "code",
    "id": "WAZa9oLLCKIZ",
    "outputId": "1467541c-92cc-4f7e-db64-a010b671013f"
   },
   "outputs": [],
   "source": [
    "f, ax = plt.subplots(figsize=(30,15))\n",
    "\n",
    "ax1 = plt.subplot(1, 3, 1)\n",
    "sns.barplot(y='Feature', x='Percent_Importance', data=tree_df.iloc[:10,:], palette='Blues_r')\n",
    "plt.xlabel('')\n",
    "ax1.tick_params(axis='y', which='major', pad=30)\n",
    "plt.title('Decision Tree \\n', fontsize=20)\n",
    "\n",
    "ax2 = plt.subplot(1, 3, 2)\n",
    "sns.barplot(y='Feature', x='Percent_Importance', data=rfc_df.iloc[:10,:], palette='Blues_r')\n",
    "plt.xlabel('\\n Percent Importance', fontsize=50)\n",
    "ax2.tick_params(axis='y', which='major', pad=30)\n",
    "plt.title('Random Forest \\n', fontsize=20)\n",
    "\n",
    "ax3 = plt.subplot(1, 3, 3)\n",
    "sns.barplot(y='Feature', x='Percent_Importance', data=xgb_df.iloc[:10,:], palette='Blues_r')\n",
    "plt.xlabel('')\n",
    "ax3.tick_params(axis='y', which='major', pad=30)\n",
    "plt.title('XGBoost \\n', fontsize=20)\n",
    "\n",
    "plt.tight_layout()\n",
    "plt.suptitle('              Feature Importances by Model \\n', fontsize=40)\n",
    "plt.subplots_adjust(top=0.88)\n",
    "plt.show()"
   ]
  },
  {
   "cell_type": "markdown",
   "metadata": {
    "colab_type": "text",
    "id": "grMy_ralnfa_"
   },
   "source": [
    "#Conclusion\n",
    "\n",
    "The accuracy scores across the models attempted were all similar. The neural network did not perform well compared to the others. Given the dataset, we are able to predict the winners of NBA games with around 65-70% accuracy. The most important features in predicting a winner were adjusted team ratings. Someone can use this model and information to bet on the moneyline odds for NBA games. \n",
    "\n",
    "In an effort to improve these models, we could use more data. Moneyline odds tend to change depending on who is playing in the game. For example, a team might be missing their best player, causing the odds to move in the direction of favoring the opposing team. In other words, we would want data on the players that play in the games. We could also use different advanced metrics, such as team tendencies and playstyles. "
   ]
  }
 ],
 "metadata": {
  "accelerator": "GPU",
  "colab": {
   "collapsed_sections": [
    "T-EoSfcCny3y"
   ],
   "name": "Final Capstone.ipynb",
   "provenance": []
  },
  "kernelspec": {
   "display_name": "Python 3",
   "language": "python",
   "name": "python3"
  },
  "language_info": {
   "codemirror_mode": {
    "name": "ipython",
    "version": 3
   },
   "file_extension": ".py",
   "mimetype": "text/x-python",
   "name": "python",
   "nbconvert_exporter": "python",
   "pygments_lexer": "ipython3",
   "version": "3.7.4"
  }
 },
 "nbformat": 4,
 "nbformat_minor": 1
}
